{
 "cells": [
  {
   "cell_type": "code",
   "execution_count": 1,
   "metadata": {
    "collapsed": true
   },
   "outputs": [],
   "source": [
    "import pandas as pd\n",
    "\n",
    "mem = pd.read_csv(r'C:\\Users\\Leo\\Downloads\\all\\members_v3\\members_v3.csv')\n",
    "train = pd.read_csv(r'C:\\Users\\Leo\\Downloads\\all\\train_v2\\train_v2.csv')"
   ]
  },
  {
   "cell_type": "code",
   "execution_count": 35,
   "metadata": {
    "collapsed": true
   },
   "outputs": [],
   "source": [
    "mem = pd.read_csv(r'C:\\Users\\Leo\\Downloads\\all\\members_v3\\members_v3.csv')"
   ]
  },
  {
   "cell_type": "code",
   "execution_count": 63,
   "metadata": {
    "scrolled": true
   },
   "outputs": [
    {
     "data": {
      "text/plain": [
       "{0,\n",
       " 5,\n",
       " 6,\n",
       " 7,\n",
       " 8,\n",
       " 9,\n",
       " 10,\n",
       " 11,\n",
       " 12,\n",
       " 13,\n",
       " 14,\n",
       " 15,\n",
       " 16,\n",
       " 17,\n",
       " 18,\n",
       " 19,\n",
       " 20,\n",
       " 21,\n",
       " 22,\n",
       " 23,\n",
       " 24,\n",
       " 25,\n",
       " 26,\n",
       " 27,\n",
       " 28,\n",
       " 29,\n",
       " 30,\n",
       " 31,\n",
       " 32,\n",
       " 33,\n",
       " 34,\n",
       " 35,\n",
       " 36,\n",
       " 37,\n",
       " 38,\n",
       " 39,\n",
       " 40,\n",
       " 41,\n",
       " 42,\n",
       " 43,\n",
       " 44,\n",
       " 45,\n",
       " 46,\n",
       " 47,\n",
       " 48,\n",
       " 49,\n",
       " 50,\n",
       " 51,\n",
       " 52,\n",
       " 53,\n",
       " 54,\n",
       " 55,\n",
       " 56,\n",
       " 57,\n",
       " 58,\n",
       " 59,\n",
       " 60,\n",
       " 61,\n",
       " 62,\n",
       " 63,\n",
       " 64,\n",
       " 65,\n",
       " 66,\n",
       " 67,\n",
       " 68,\n",
       " 69,\n",
       " 70,\n",
       " 71,\n",
       " 72,\n",
       " 73,\n",
       " 74,\n",
       " 75}"
      ]
     },
     "execution_count": 63,
     "metadata": {},
     "output_type": "execute_result"
    }
   ],
   "source": [
    "mem['bd'] = mem['bd'].apply(lambda x: 0 if x>75 or x < 5 else x)\n",
    "set(mem['bd'])"
   ]
  },
  {
   "cell_type": "code",
   "execution_count": 2,
   "metadata": {
    "collapsed": true
   },
   "outputs": [],
   "source": [
    "result = pd.merge(mem, train, on='msno')"
   ]
  },
  {
   "cell_type": "code",
   "execution_count": 3,
   "metadata": {
    "scrolled": true
   },
   "outputs": [
    {
     "data": {
      "text/html": [
       "<div>\n",
       "<style>\n",
       "    .dataframe thead tr:only-child th {\n",
       "        text-align: right;\n",
       "    }\n",
       "\n",
       "    .dataframe thead th {\n",
       "        text-align: left;\n",
       "    }\n",
       "\n",
       "    .dataframe tbody tr th {\n",
       "        vertical-align: top;\n",
       "    }\n",
       "</style>\n",
       "<table border=\"1\" class=\"dataframe\">\n",
       "  <thead>\n",
       "    <tr style=\"text-align: right;\">\n",
       "      <th></th>\n",
       "      <th>msno</th>\n",
       "      <th>city</th>\n",
       "      <th>bd</th>\n",
       "      <th>gender</th>\n",
       "      <th>registered_via</th>\n",
       "      <th>registration_init_time</th>\n",
       "      <th>is_churn</th>\n",
       "    </tr>\n",
       "  </thead>\n",
       "  <tbody>\n",
       "    <tr>\n",
       "      <th>0</th>\n",
       "      <td>+tJonkh+O1CA796Fm5X60UMOtB6POHAwPjbTRVl/EuU=</td>\n",
       "      <td>1</td>\n",
       "      <td>0</td>\n",
       "      <td>NaN</td>\n",
       "      <td>7</td>\n",
       "      <td>20110914</td>\n",
       "      <td>0</td>\n",
       "    </tr>\n",
       "    <tr>\n",
       "      <th>1</th>\n",
       "      <td>yLkV2gbZ4GLFwqTOXLVHz0VGrMYcgBGgKZ3kj9RiYu8=</td>\n",
       "      <td>4</td>\n",
       "      <td>30</td>\n",
       "      <td>male</td>\n",
       "      <td>9</td>\n",
       "      <td>20110916</td>\n",
       "      <td>0</td>\n",
       "    </tr>\n",
       "    <tr>\n",
       "      <th>2</th>\n",
       "      <td>I0yFvqMoNkM8ZNHb617e1RBzIS/YRKemHO7Wj13EtA0=</td>\n",
       "      <td>13</td>\n",
       "      <td>63</td>\n",
       "      <td>male</td>\n",
       "      <td>9</td>\n",
       "      <td>20110918</td>\n",
       "      <td>0</td>\n",
       "    </tr>\n",
       "    <tr>\n",
       "      <th>3</th>\n",
       "      <td>OoDwiKZM+ZGr9P3fRivavgOtglTEaNfWJO4KaJcTTts=</td>\n",
       "      <td>1</td>\n",
       "      <td>0</td>\n",
       "      <td>NaN</td>\n",
       "      <td>7</td>\n",
       "      <td>20110918</td>\n",
       "      <td>1</td>\n",
       "    </tr>\n",
       "    <tr>\n",
       "      <th>4</th>\n",
       "      <td>4De1jAxNRABoyRBDZ82U0yEmzYkqeOugRGVNIf92Xb8=</td>\n",
       "      <td>4</td>\n",
       "      <td>28</td>\n",
       "      <td>female</td>\n",
       "      <td>9</td>\n",
       "      <td>20110920</td>\n",
       "      <td>0</td>\n",
       "    </tr>\n",
       "    <tr>\n",
       "      <th>5</th>\n",
       "      <td>GqYHRxlZChiZvB1uzR410wcQzuxqZNZci4AzOTzkAao=</td>\n",
       "      <td>5</td>\n",
       "      <td>27</td>\n",
       "      <td>male</td>\n",
       "      <td>9</td>\n",
       "      <td>20110927</td>\n",
       "      <td>0</td>\n",
       "    </tr>\n",
       "    <tr>\n",
       "      <th>6</th>\n",
       "      <td>Z6WIOK9vXy+e2XDBiioNAxuZ0ScXSU/Ebq4tUwqVSrE=</td>\n",
       "      <td>22</td>\n",
       "      <td>38</td>\n",
       "      <td>female</td>\n",
       "      <td>9</td>\n",
       "      <td>20110929</td>\n",
       "      <td>0</td>\n",
       "    </tr>\n",
       "    <tr>\n",
       "      <th>7</th>\n",
       "      <td>den0Kb2s4BV47zV+tSC1u0W07M7BOMq+fnrGj+9ax0I=</td>\n",
       "      <td>14</td>\n",
       "      <td>26</td>\n",
       "      <td>female</td>\n",
       "      <td>9</td>\n",
       "      <td>20111005</td>\n",
       "      <td>0</td>\n",
       "    </tr>\n",
       "    <tr>\n",
       "      <th>8</th>\n",
       "      <td>i4kmzPli+nl4XagzznO+oCcPeXfjcLSKIn8xE9oGU5E=</td>\n",
       "      <td>4</td>\n",
       "      <td>58</td>\n",
       "      <td>male</td>\n",
       "      <td>9</td>\n",
       "      <td>20111006</td>\n",
       "      <td>0</td>\n",
       "    </tr>\n",
       "    <tr>\n",
       "      <th>9</th>\n",
       "      <td>XmV2kHCnqnQf4oTJ4LCS7F02cpxnzqGIDDRGHe4dw8c=</td>\n",
       "      <td>22</td>\n",
       "      <td>31</td>\n",
       "      <td>female</td>\n",
       "      <td>9</td>\n",
       "      <td>20111006</td>\n",
       "      <td>1</td>\n",
       "    </tr>\n",
       "    <tr>\n",
       "      <th>10</th>\n",
       "      <td>Xu8NWVApL13fqXD8N1vGafCLxVSw/FSOgUaJo5EdehM=</td>\n",
       "      <td>13</td>\n",
       "      <td>0</td>\n",
       "      <td>NaN</td>\n",
       "      <td>7</td>\n",
       "      <td>20111008</td>\n",
       "      <td>0</td>\n",
       "    </tr>\n",
       "    <tr>\n",
       "      <th>11</th>\n",
       "      <td>RA5kFIcw5aItrnKLvNc3GNcU+tWYlCPXzI1UpT16oFk=</td>\n",
       "      <td>1</td>\n",
       "      <td>0</td>\n",
       "      <td>NaN</td>\n",
       "      <td>9</td>\n",
       "      <td>20111009</td>\n",
       "      <td>0</td>\n",
       "    </tr>\n",
       "    <tr>\n",
       "      <th>12</th>\n",
       "      <td>75A0yqLXt/ZZ+DY30gjRr/mJG8rDOexVswfVw1dVbt0=</td>\n",
       "      <td>15</td>\n",
       "      <td>21</td>\n",
       "      <td>male</td>\n",
       "      <td>9</td>\n",
       "      <td>20111010</td>\n",
       "      <td>1</td>\n",
       "    </tr>\n",
       "    <tr>\n",
       "      <th>13</th>\n",
       "      <td>tlGR5F/+vDFsnQme+KnvXKsCh3y31I1/dBaGuHDfdII=</td>\n",
       "      <td>5</td>\n",
       "      <td>39</td>\n",
       "      <td>female</td>\n",
       "      <td>7</td>\n",
       "      <td>20111012</td>\n",
       "      <td>0</td>\n",
       "    </tr>\n",
       "    <tr>\n",
       "      <th>14</th>\n",
       "      <td>lYrf6Y/NjJ8yDGp51Nb537ZZ3bjy2ZmvjCE6Qgj53NM=</td>\n",
       "      <td>1</td>\n",
       "      <td>0</td>\n",
       "      <td>NaN</td>\n",
       "      <td>7</td>\n",
       "      <td>20111015</td>\n",
       "      <td>0</td>\n",
       "    </tr>\n",
       "    <tr>\n",
       "      <th>15</th>\n",
       "      <td>7rq890KZ51gQwJo13Iuk+PpLvxghhvPt/zJNc3OBAY4=</td>\n",
       "      <td>1</td>\n",
       "      <td>0</td>\n",
       "      <td>NaN</td>\n",
       "      <td>7</td>\n",
       "      <td>20111020</td>\n",
       "      <td>0</td>\n",
       "    </tr>\n",
       "    <tr>\n",
       "      <th>16</th>\n",
       "      <td>STXWC0VvMgKZRWGdd4rv1dmwlcUFjvW4vHqo00YWZfg=</td>\n",
       "      <td>5</td>\n",
       "      <td>27</td>\n",
       "      <td>male</td>\n",
       "      <td>9</td>\n",
       "      <td>20111020</td>\n",
       "      <td>1</td>\n",
       "    </tr>\n",
       "    <tr>\n",
       "      <th>17</th>\n",
       "      <td>Jul8xeVqsOHp2dFxcL3kN6jyLN8Xv36jDlctKTOrnHs=</td>\n",
       "      <td>1</td>\n",
       "      <td>0</td>\n",
       "      <td>NaN</td>\n",
       "      <td>7</td>\n",
       "      <td>20111022</td>\n",
       "      <td>0</td>\n",
       "    </tr>\n",
       "    <tr>\n",
       "      <th>18</th>\n",
       "      <td>m0h0+lJIok7k6BzAoOnq+x+mB1tbi9shGF/egYLbed4=</td>\n",
       "      <td>4</td>\n",
       "      <td>22</td>\n",
       "      <td>female</td>\n",
       "      <td>7</td>\n",
       "      <td>20141020</td>\n",
       "      <td>0</td>\n",
       "    </tr>\n",
       "    <tr>\n",
       "      <th>19</th>\n",
       "      <td>7oCpSPj4+SdVJLfDRc+tN5HLp2R1DRozaWsTpbLTz5g=</td>\n",
       "      <td>15</td>\n",
       "      <td>21</td>\n",
       "      <td>female</td>\n",
       "      <td>3</td>\n",
       "      <td>20141020</td>\n",
       "      <td>1</td>\n",
       "    </tr>\n",
       "    <tr>\n",
       "      <th>20</th>\n",
       "      <td>vWYxNeXA8NwsiQQr7Beq5XQgCcj0y9N0YxEN2A2iqxI=</td>\n",
       "      <td>1</td>\n",
       "      <td>0</td>\n",
       "      <td>NaN</td>\n",
       "      <td>9</td>\n",
       "      <td>20141021</td>\n",
       "      <td>0</td>\n",
       "    </tr>\n",
       "    <tr>\n",
       "      <th>21</th>\n",
       "      <td>m2FN3rp3Xu5JYDLjzrhrydz8/Cy/4OdqpqDZ/ONlEVM=</td>\n",
       "      <td>5</td>\n",
       "      <td>20</td>\n",
       "      <td>female</td>\n",
       "      <td>3</td>\n",
       "      <td>20141021</td>\n",
       "      <td>1</td>\n",
       "    </tr>\n",
       "    <tr>\n",
       "      <th>22</th>\n",
       "      <td>/KFSyUgfLaovVKlfn1s7rHVVFLFgj3s0yiI9KUopF2s=</td>\n",
       "      <td>4</td>\n",
       "      <td>40</td>\n",
       "      <td>male</td>\n",
       "      <td>7</td>\n",
       "      <td>20141023</td>\n",
       "      <td>0</td>\n",
       "    </tr>\n",
       "    <tr>\n",
       "      <th>23</th>\n",
       "      <td>eIOUZ5I+NV/3EDfn/U/tMepn4FJt2SdzOrWGH1tNlYI=</td>\n",
       "      <td>5</td>\n",
       "      <td>24</td>\n",
       "      <td>male</td>\n",
       "      <td>3</td>\n",
       "      <td>20141025</td>\n",
       "      <td>0</td>\n",
       "    </tr>\n",
       "    <tr>\n",
       "      <th>24</th>\n",
       "      <td>TpFXcQXbaTCwXMIeE7xfclWQs2Fuup1U0g6+GAZotS8=</td>\n",
       "      <td>3</td>\n",
       "      <td>28</td>\n",
       "      <td>male</td>\n",
       "      <td>9</td>\n",
       "      <td>20141025</td>\n",
       "      <td>0</td>\n",
       "    </tr>\n",
       "    <tr>\n",
       "      <th>25</th>\n",
       "      <td>QzyX6ufzLhmGeiE0cyytk0lC13hQp45q4BOVUL+zpTI=</td>\n",
       "      <td>13</td>\n",
       "      <td>29</td>\n",
       "      <td>NaN</td>\n",
       "      <td>9</td>\n",
       "      <td>20141028</td>\n",
       "      <td>0</td>\n",
       "    </tr>\n",
       "    <tr>\n",
       "      <th>26</th>\n",
       "      <td>fkLgfIOX0bWM9/BQQChOCDzoos23szsckxPvxrBbtmY=</td>\n",
       "      <td>4</td>\n",
       "      <td>20</td>\n",
       "      <td>female</td>\n",
       "      <td>9</td>\n",
       "      <td>20141029</td>\n",
       "      <td>0</td>\n",
       "    </tr>\n",
       "    <tr>\n",
       "      <th>27</th>\n",
       "      <td>6yphyTmC295tgoBwvFyeWDj8LyglMyZdfyEgqGiijTk=</td>\n",
       "      <td>15</td>\n",
       "      <td>0</td>\n",
       "      <td>NaN</td>\n",
       "      <td>9</td>\n",
       "      <td>20141029</td>\n",
       "      <td>0</td>\n",
       "    </tr>\n",
       "    <tr>\n",
       "      <th>28</th>\n",
       "      <td>lrbRHcFjAKoKUF5J4ZgRMQneba08aiDcPefSXqQBgvI=</td>\n",
       "      <td>22</td>\n",
       "      <td>0</td>\n",
       "      <td>NaN</td>\n",
       "      <td>7</td>\n",
       "      <td>20141030</td>\n",
       "      <td>0</td>\n",
       "    </tr>\n",
       "    <tr>\n",
       "      <th>29</th>\n",
       "      <td>ESVo+lT5jnnu6N9cWXQlEvTo8zmOwNvmagld3vSOeZI=</td>\n",
       "      <td>4</td>\n",
       "      <td>20</td>\n",
       "      <td>female</td>\n",
       "      <td>3</td>\n",
       "      <td>20141101</td>\n",
       "      <td>0</td>\n",
       "    </tr>\n",
       "    <tr>\n",
       "      <th>...</th>\n",
       "      <td>...</td>\n",
       "      <td>...</td>\n",
       "      <td>...</td>\n",
       "      <td>...</td>\n",
       "      <td>...</td>\n",
       "      <td>...</td>\n",
       "      <td>...</td>\n",
       "    </tr>\n",
       "    <tr>\n",
       "      <th>860937</th>\n",
       "      <td>oX4zYBciHWFE3STh49bcHLKnbwqnE0eRHT1Bug288sg=</td>\n",
       "      <td>14</td>\n",
       "      <td>29</td>\n",
       "      <td>male</td>\n",
       "      <td>7</td>\n",
       "      <td>20151012</td>\n",
       "      <td>0</td>\n",
       "    </tr>\n",
       "    <tr>\n",
       "      <th>860938</th>\n",
       "      <td>7BwoQ1DE0UjWeh80+Cec9FF3vHeN5FYYv+C43kSJMHE=</td>\n",
       "      <td>1</td>\n",
       "      <td>0</td>\n",
       "      <td>NaN</td>\n",
       "      <td>4</td>\n",
       "      <td>20151012</td>\n",
       "      <td>0</td>\n",
       "    </tr>\n",
       "    <tr>\n",
       "      <th>860939</th>\n",
       "      <td>rz2OSq563olgySJGjuJlqURWoDCZuaOdR1aMvoREigQ=</td>\n",
       "      <td>1</td>\n",
       "      <td>0</td>\n",
       "      <td>NaN</td>\n",
       "      <td>7</td>\n",
       "      <td>20151012</td>\n",
       "      <td>0</td>\n",
       "    </tr>\n",
       "    <tr>\n",
       "      <th>860940</th>\n",
       "      <td>R5q1YWB8xXAAbIIIcGwBusljYFyH8pFmqQvufSJS01E=</td>\n",
       "      <td>1</td>\n",
       "      <td>0</td>\n",
       "      <td>NaN</td>\n",
       "      <td>7</td>\n",
       "      <td>20151012</td>\n",
       "      <td>0</td>\n",
       "    </tr>\n",
       "    <tr>\n",
       "      <th>860941</th>\n",
       "      <td>OFZZv2IjCTW0Pk0DNcaEgTSFJ9xEaH88Ht1IntXKZ4o=</td>\n",
       "      <td>1</td>\n",
       "      <td>0</td>\n",
       "      <td>NaN</td>\n",
       "      <td>7</td>\n",
       "      <td>20151012</td>\n",
       "      <td>0</td>\n",
       "    </tr>\n",
       "    <tr>\n",
       "      <th>860942</th>\n",
       "      <td>HKWSWkW7mNCESU51QUSiMDuXEsDRYQ+LJlkmfHNDRe4=</td>\n",
       "      <td>10</td>\n",
       "      <td>27</td>\n",
       "      <td>male</td>\n",
       "      <td>9</td>\n",
       "      <td>20151013</td>\n",
       "      <td>0</td>\n",
       "    </tr>\n",
       "    <tr>\n",
       "      <th>860943</th>\n",
       "      <td>D9KixB598mp1tH6EzIkLqNVrQp0VhK+ws63HMlHc6B4=</td>\n",
       "      <td>1</td>\n",
       "      <td>0</td>\n",
       "      <td>NaN</td>\n",
       "      <td>7</td>\n",
       "      <td>20151013</td>\n",
       "      <td>0</td>\n",
       "    </tr>\n",
       "    <tr>\n",
       "      <th>860944</th>\n",
       "      <td>xVHoplBbcBV00s2KE3Oul/DnWHvglQrpXBRYu172jgM=</td>\n",
       "      <td>1</td>\n",
       "      <td>0</td>\n",
       "      <td>NaN</td>\n",
       "      <td>7</td>\n",
       "      <td>20151014</td>\n",
       "      <td>0</td>\n",
       "    </tr>\n",
       "    <tr>\n",
       "      <th>860945</th>\n",
       "      <td>baJjuMzei5ZJi9LhNUH01imIr2u/XCfUEW9Ym9OJcA0=</td>\n",
       "      <td>1</td>\n",
       "      <td>0</td>\n",
       "      <td>NaN</td>\n",
       "      <td>4</td>\n",
       "      <td>20151015</td>\n",
       "      <td>1</td>\n",
       "    </tr>\n",
       "    <tr>\n",
       "      <th>860946</th>\n",
       "      <td>ndqF8kfBC4WojMWGv8dv+1aysLsElRvPKqVouvurUqI=</td>\n",
       "      <td>1</td>\n",
       "      <td>0</td>\n",
       "      <td>NaN</td>\n",
       "      <td>7</td>\n",
       "      <td>20151015</td>\n",
       "      <td>0</td>\n",
       "    </tr>\n",
       "    <tr>\n",
       "      <th>860947</th>\n",
       "      <td>zva5UWL0ipdvZtW4xq4eD5LXt+QvsL6rDUZ7w8+7aA4=</td>\n",
       "      <td>1</td>\n",
       "      <td>0</td>\n",
       "      <td>NaN</td>\n",
       "      <td>7</td>\n",
       "      <td>20151015</td>\n",
       "      <td>0</td>\n",
       "    </tr>\n",
       "    <tr>\n",
       "      <th>860948</th>\n",
       "      <td>PRpl2sIWNkgwV/jvW7/44puc0PhHvpo50vjBcI4hiZ4=</td>\n",
       "      <td>4</td>\n",
       "      <td>31</td>\n",
       "      <td>male</td>\n",
       "      <td>4</td>\n",
       "      <td>20151017</td>\n",
       "      <td>0</td>\n",
       "    </tr>\n",
       "    <tr>\n",
       "      <th>860949</th>\n",
       "      <td>KU60B7dbKGHFHlMfMCZAwKCCHmrlcOHrErNK7pYt+m4=</td>\n",
       "      <td>5</td>\n",
       "      <td>21</td>\n",
       "      <td>female</td>\n",
       "      <td>9</td>\n",
       "      <td>20151017</td>\n",
       "      <td>0</td>\n",
       "    </tr>\n",
       "    <tr>\n",
       "      <th>860950</th>\n",
       "      <td>m6tB1i6b6zYtZ87hkkqGKJcP+Hon7sie04YhqhjVXMU=</td>\n",
       "      <td>1</td>\n",
       "      <td>0</td>\n",
       "      <td>NaN</td>\n",
       "      <td>4</td>\n",
       "      <td>20151017</td>\n",
       "      <td>0</td>\n",
       "    </tr>\n",
       "    <tr>\n",
       "      <th>860951</th>\n",
       "      <td>7pUEHRm2pMJTDewz/nyntfo91Atbx9tcNfXknFWMucg=</td>\n",
       "      <td>1</td>\n",
       "      <td>0</td>\n",
       "      <td>NaN</td>\n",
       "      <td>7</td>\n",
       "      <td>20151017</td>\n",
       "      <td>1</td>\n",
       "    </tr>\n",
       "    <tr>\n",
       "      <th>860952</th>\n",
       "      <td>Vpv3EYC4/M0uwP1gJdybcrjoITjTH3C2NyhPP5lHFeQ=</td>\n",
       "      <td>1</td>\n",
       "      <td>0</td>\n",
       "      <td>NaN</td>\n",
       "      <td>7</td>\n",
       "      <td>20151017</td>\n",
       "      <td>0</td>\n",
       "    </tr>\n",
       "    <tr>\n",
       "      <th>860953</th>\n",
       "      <td>us/5zfDeKXRFLw5dhjLfuT2CWQthbJy8HB0K5Qp03d8=</td>\n",
       "      <td>1</td>\n",
       "      <td>0</td>\n",
       "      <td>NaN</td>\n",
       "      <td>7</td>\n",
       "      <td>20151017</td>\n",
       "      <td>0</td>\n",
       "    </tr>\n",
       "    <tr>\n",
       "      <th>860954</th>\n",
       "      <td>/TsBWbLUdOZ8I8rm+spvs2ZHSvn51xYe4x3VXHW6N60=</td>\n",
       "      <td>1</td>\n",
       "      <td>0</td>\n",
       "      <td>NaN</td>\n",
       "      <td>7</td>\n",
       "      <td>20151017</td>\n",
       "      <td>0</td>\n",
       "    </tr>\n",
       "    <tr>\n",
       "      <th>860955</th>\n",
       "      <td>s4kJscr2m64SXUV5mvcMQH0gzASM/U7fzU6sLlbE+so=</td>\n",
       "      <td>1</td>\n",
       "      <td>0</td>\n",
       "      <td>NaN</td>\n",
       "      <td>7</td>\n",
       "      <td>20151018</td>\n",
       "      <td>0</td>\n",
       "    </tr>\n",
       "    <tr>\n",
       "      <th>860956</th>\n",
       "      <td>SVp3Tpz8qeErdmVZirTq3RGPvgyJFa48IsUVaWedXUI=</td>\n",
       "      <td>1</td>\n",
       "      <td>0</td>\n",
       "      <td>NaN</td>\n",
       "      <td>7</td>\n",
       "      <td>20151018</td>\n",
       "      <td>0</td>\n",
       "    </tr>\n",
       "    <tr>\n",
       "      <th>860957</th>\n",
       "      <td>eB6dUZj9L5BQ7QKF6rrZ8+7d+TKOKYeQa5s9pE7w4MA=</td>\n",
       "      <td>1</td>\n",
       "      <td>0</td>\n",
       "      <td>NaN</td>\n",
       "      <td>7</td>\n",
       "      <td>20151018</td>\n",
       "      <td>0</td>\n",
       "    </tr>\n",
       "    <tr>\n",
       "      <th>860958</th>\n",
       "      <td>3HbfJ/J3zV1Fqb0kAI2RqxPLeGV6o9+T6Lb9quGsdjQ=</td>\n",
       "      <td>1</td>\n",
       "      <td>0</td>\n",
       "      <td>NaN</td>\n",
       "      <td>7</td>\n",
       "      <td>20151019</td>\n",
       "      <td>0</td>\n",
       "    </tr>\n",
       "    <tr>\n",
       "      <th>860959</th>\n",
       "      <td>8+23HzbFCL2A51xWwqJAofgE0ayFbc51xEFhnBRPEFk=</td>\n",
       "      <td>1</td>\n",
       "      <td>0</td>\n",
       "      <td>NaN</td>\n",
       "      <td>7</td>\n",
       "      <td>20151019</td>\n",
       "      <td>0</td>\n",
       "    </tr>\n",
       "    <tr>\n",
       "      <th>860960</th>\n",
       "      <td>vvMAO/rasdxnKypB4SBEdLClhMbD0041+t5dKSAKDk8=</td>\n",
       "      <td>5</td>\n",
       "      <td>22</td>\n",
       "      <td>male</td>\n",
       "      <td>7</td>\n",
       "      <td>20151019</td>\n",
       "      <td>0</td>\n",
       "    </tr>\n",
       "    <tr>\n",
       "      <th>860961</th>\n",
       "      <td>FdTMJNltFyaNcTW4QHmR6AY8J8PFdWAVqbPrz89KxFY=</td>\n",
       "      <td>1</td>\n",
       "      <td>0</td>\n",
       "      <td>NaN</td>\n",
       "      <td>7</td>\n",
       "      <td>20151019</td>\n",
       "      <td>0</td>\n",
       "    </tr>\n",
       "    <tr>\n",
       "      <th>860962</th>\n",
       "      <td>dz8iQV2eZCBZo1DjKL7OifsiyzGf3xyMaCFDOJHVeyc=</td>\n",
       "      <td>1</td>\n",
       "      <td>0</td>\n",
       "      <td>NaN</td>\n",
       "      <td>7</td>\n",
       "      <td>20151020</td>\n",
       "      <td>0</td>\n",
       "    </tr>\n",
       "    <tr>\n",
       "      <th>860963</th>\n",
       "      <td>OL6joplCKThE1pZD+AQDnj3kZiC45qzpndlDIRSyPQI=</td>\n",
       "      <td>1</td>\n",
       "      <td>0</td>\n",
       "      <td>NaN</td>\n",
       "      <td>7</td>\n",
       "      <td>20151020</td>\n",
       "      <td>0</td>\n",
       "    </tr>\n",
       "    <tr>\n",
       "      <th>860964</th>\n",
       "      <td>O11rAa17ANM6DGMMVb9L2vwCQFv/S6SR3SDB1nGuOAc=</td>\n",
       "      <td>1</td>\n",
       "      <td>0</td>\n",
       "      <td>NaN</td>\n",
       "      <td>7</td>\n",
       "      <td>20151020</td>\n",
       "      <td>0</td>\n",
       "    </tr>\n",
       "    <tr>\n",
       "      <th>860965</th>\n",
       "      <td>tyoRqQ72Y2oCcqvdaIxG8T0Hs9DZvuuM8IeTwhxtdBQ=</td>\n",
       "      <td>6</td>\n",
       "      <td>26</td>\n",
       "      <td>female</td>\n",
       "      <td>7</td>\n",
       "      <td>20151020</td>\n",
       "      <td>0</td>\n",
       "    </tr>\n",
       "    <tr>\n",
       "      <th>860966</th>\n",
       "      <td>nWjH7glPkZ7jOVaCRwwjlpmp0T1hSWdv8hMJxiWCwKc=</td>\n",
       "      <td>1</td>\n",
       "      <td>0</td>\n",
       "      <td>NaN</td>\n",
       "      <td>7</td>\n",
       "      <td>20151020</td>\n",
       "      <td>0</td>\n",
       "    </tr>\n",
       "  </tbody>\n",
       "</table>\n",
       "<p>860967 rows × 7 columns</p>\n",
       "</div>"
      ],
      "text/plain": [
       "                                                msno  city  bd  gender  \\\n",
       "0       +tJonkh+O1CA796Fm5X60UMOtB6POHAwPjbTRVl/EuU=     1   0     NaN   \n",
       "1       yLkV2gbZ4GLFwqTOXLVHz0VGrMYcgBGgKZ3kj9RiYu8=     4  30    male   \n",
       "2       I0yFvqMoNkM8ZNHb617e1RBzIS/YRKemHO7Wj13EtA0=    13  63    male   \n",
       "3       OoDwiKZM+ZGr9P3fRivavgOtglTEaNfWJO4KaJcTTts=     1   0     NaN   \n",
       "4       4De1jAxNRABoyRBDZ82U0yEmzYkqeOugRGVNIf92Xb8=     4  28  female   \n",
       "5       GqYHRxlZChiZvB1uzR410wcQzuxqZNZci4AzOTzkAao=     5  27    male   \n",
       "6       Z6WIOK9vXy+e2XDBiioNAxuZ0ScXSU/Ebq4tUwqVSrE=    22  38  female   \n",
       "7       den0Kb2s4BV47zV+tSC1u0W07M7BOMq+fnrGj+9ax0I=    14  26  female   \n",
       "8       i4kmzPli+nl4XagzznO+oCcPeXfjcLSKIn8xE9oGU5E=     4  58    male   \n",
       "9       XmV2kHCnqnQf4oTJ4LCS7F02cpxnzqGIDDRGHe4dw8c=    22  31  female   \n",
       "10      Xu8NWVApL13fqXD8N1vGafCLxVSw/FSOgUaJo5EdehM=    13   0     NaN   \n",
       "11      RA5kFIcw5aItrnKLvNc3GNcU+tWYlCPXzI1UpT16oFk=     1   0     NaN   \n",
       "12      75A0yqLXt/ZZ+DY30gjRr/mJG8rDOexVswfVw1dVbt0=    15  21    male   \n",
       "13      tlGR5F/+vDFsnQme+KnvXKsCh3y31I1/dBaGuHDfdII=     5  39  female   \n",
       "14      lYrf6Y/NjJ8yDGp51Nb537ZZ3bjy2ZmvjCE6Qgj53NM=     1   0     NaN   \n",
       "15      7rq890KZ51gQwJo13Iuk+PpLvxghhvPt/zJNc3OBAY4=     1   0     NaN   \n",
       "16      STXWC0VvMgKZRWGdd4rv1dmwlcUFjvW4vHqo00YWZfg=     5  27    male   \n",
       "17      Jul8xeVqsOHp2dFxcL3kN6jyLN8Xv36jDlctKTOrnHs=     1   0     NaN   \n",
       "18      m0h0+lJIok7k6BzAoOnq+x+mB1tbi9shGF/egYLbed4=     4  22  female   \n",
       "19      7oCpSPj4+SdVJLfDRc+tN5HLp2R1DRozaWsTpbLTz5g=    15  21  female   \n",
       "20      vWYxNeXA8NwsiQQr7Beq5XQgCcj0y9N0YxEN2A2iqxI=     1   0     NaN   \n",
       "21      m2FN3rp3Xu5JYDLjzrhrydz8/Cy/4OdqpqDZ/ONlEVM=     5  20  female   \n",
       "22      /KFSyUgfLaovVKlfn1s7rHVVFLFgj3s0yiI9KUopF2s=     4  40    male   \n",
       "23      eIOUZ5I+NV/3EDfn/U/tMepn4FJt2SdzOrWGH1tNlYI=     5  24    male   \n",
       "24      TpFXcQXbaTCwXMIeE7xfclWQs2Fuup1U0g6+GAZotS8=     3  28    male   \n",
       "25      QzyX6ufzLhmGeiE0cyytk0lC13hQp45q4BOVUL+zpTI=    13  29     NaN   \n",
       "26      fkLgfIOX0bWM9/BQQChOCDzoos23szsckxPvxrBbtmY=     4  20  female   \n",
       "27      6yphyTmC295tgoBwvFyeWDj8LyglMyZdfyEgqGiijTk=    15   0     NaN   \n",
       "28      lrbRHcFjAKoKUF5J4ZgRMQneba08aiDcPefSXqQBgvI=    22   0     NaN   \n",
       "29      ESVo+lT5jnnu6N9cWXQlEvTo8zmOwNvmagld3vSOeZI=     4  20  female   \n",
       "...                                              ...   ...  ..     ...   \n",
       "860937  oX4zYBciHWFE3STh49bcHLKnbwqnE0eRHT1Bug288sg=    14  29    male   \n",
       "860938  7BwoQ1DE0UjWeh80+Cec9FF3vHeN5FYYv+C43kSJMHE=     1   0     NaN   \n",
       "860939  rz2OSq563olgySJGjuJlqURWoDCZuaOdR1aMvoREigQ=     1   0     NaN   \n",
       "860940  R5q1YWB8xXAAbIIIcGwBusljYFyH8pFmqQvufSJS01E=     1   0     NaN   \n",
       "860941  OFZZv2IjCTW0Pk0DNcaEgTSFJ9xEaH88Ht1IntXKZ4o=     1   0     NaN   \n",
       "860942  HKWSWkW7mNCESU51QUSiMDuXEsDRYQ+LJlkmfHNDRe4=    10  27    male   \n",
       "860943  D9KixB598mp1tH6EzIkLqNVrQp0VhK+ws63HMlHc6B4=     1   0     NaN   \n",
       "860944  xVHoplBbcBV00s2KE3Oul/DnWHvglQrpXBRYu172jgM=     1   0     NaN   \n",
       "860945  baJjuMzei5ZJi9LhNUH01imIr2u/XCfUEW9Ym9OJcA0=     1   0     NaN   \n",
       "860946  ndqF8kfBC4WojMWGv8dv+1aysLsElRvPKqVouvurUqI=     1   0     NaN   \n",
       "860947  zva5UWL0ipdvZtW4xq4eD5LXt+QvsL6rDUZ7w8+7aA4=     1   0     NaN   \n",
       "860948  PRpl2sIWNkgwV/jvW7/44puc0PhHvpo50vjBcI4hiZ4=     4  31    male   \n",
       "860949  KU60B7dbKGHFHlMfMCZAwKCCHmrlcOHrErNK7pYt+m4=     5  21  female   \n",
       "860950  m6tB1i6b6zYtZ87hkkqGKJcP+Hon7sie04YhqhjVXMU=     1   0     NaN   \n",
       "860951  7pUEHRm2pMJTDewz/nyntfo91Atbx9tcNfXknFWMucg=     1   0     NaN   \n",
       "860952  Vpv3EYC4/M0uwP1gJdybcrjoITjTH3C2NyhPP5lHFeQ=     1   0     NaN   \n",
       "860953  us/5zfDeKXRFLw5dhjLfuT2CWQthbJy8HB0K5Qp03d8=     1   0     NaN   \n",
       "860954  /TsBWbLUdOZ8I8rm+spvs2ZHSvn51xYe4x3VXHW6N60=     1   0     NaN   \n",
       "860955  s4kJscr2m64SXUV5mvcMQH0gzASM/U7fzU6sLlbE+so=     1   0     NaN   \n",
       "860956  SVp3Tpz8qeErdmVZirTq3RGPvgyJFa48IsUVaWedXUI=     1   0     NaN   \n",
       "860957  eB6dUZj9L5BQ7QKF6rrZ8+7d+TKOKYeQa5s9pE7w4MA=     1   0     NaN   \n",
       "860958  3HbfJ/J3zV1Fqb0kAI2RqxPLeGV6o9+T6Lb9quGsdjQ=     1   0     NaN   \n",
       "860959  8+23HzbFCL2A51xWwqJAofgE0ayFbc51xEFhnBRPEFk=     1   0     NaN   \n",
       "860960  vvMAO/rasdxnKypB4SBEdLClhMbD0041+t5dKSAKDk8=     5  22    male   \n",
       "860961  FdTMJNltFyaNcTW4QHmR6AY8J8PFdWAVqbPrz89KxFY=     1   0     NaN   \n",
       "860962  dz8iQV2eZCBZo1DjKL7OifsiyzGf3xyMaCFDOJHVeyc=     1   0     NaN   \n",
       "860963  OL6joplCKThE1pZD+AQDnj3kZiC45qzpndlDIRSyPQI=     1   0     NaN   \n",
       "860964  O11rAa17ANM6DGMMVb9L2vwCQFv/S6SR3SDB1nGuOAc=     1   0     NaN   \n",
       "860965  tyoRqQ72Y2oCcqvdaIxG8T0Hs9DZvuuM8IeTwhxtdBQ=     6  26  female   \n",
       "860966  nWjH7glPkZ7jOVaCRwwjlpmp0T1hSWdv8hMJxiWCwKc=     1   0     NaN   \n",
       "\n",
       "        registered_via  registration_init_time  is_churn  \n",
       "0                    7                20110914         0  \n",
       "1                    9                20110916         0  \n",
       "2                    9                20110918         0  \n",
       "3                    7                20110918         1  \n",
       "4                    9                20110920         0  \n",
       "5                    9                20110927         0  \n",
       "6                    9                20110929         0  \n",
       "7                    9                20111005         0  \n",
       "8                    9                20111006         0  \n",
       "9                    9                20111006         1  \n",
       "10                   7                20111008         0  \n",
       "11                   9                20111009         0  \n",
       "12                   9                20111010         1  \n",
       "13                   7                20111012         0  \n",
       "14                   7                20111015         0  \n",
       "15                   7                20111020         0  \n",
       "16                   9                20111020         1  \n",
       "17                   7                20111022         0  \n",
       "18                   7                20141020         0  \n",
       "19                   3                20141020         1  \n",
       "20                   9                20141021         0  \n",
       "21                   3                20141021         1  \n",
       "22                   7                20141023         0  \n",
       "23                   3                20141025         0  \n",
       "24                   9                20141025         0  \n",
       "25                   9                20141028         0  \n",
       "26                   9                20141029         0  \n",
       "27                   9                20141029         0  \n",
       "28                   7                20141030         0  \n",
       "29                   3                20141101         0  \n",
       "...                ...                     ...       ...  \n",
       "860937               7                20151012         0  \n",
       "860938               4                20151012         0  \n",
       "860939               7                20151012         0  \n",
       "860940               7                20151012         0  \n",
       "860941               7                20151012         0  \n",
       "860942               9                20151013         0  \n",
       "860943               7                20151013         0  \n",
       "860944               7                20151014         0  \n",
       "860945               4                20151015         1  \n",
       "860946               7                20151015         0  \n",
       "860947               7                20151015         0  \n",
       "860948               4                20151017         0  \n",
       "860949               9                20151017         0  \n",
       "860950               4                20151017         0  \n",
       "860951               7                20151017         1  \n",
       "860952               7                20151017         0  \n",
       "860953               7                20151017         0  \n",
       "860954               7                20151017         0  \n",
       "860955               7                20151018         0  \n",
       "860956               7                20151018         0  \n",
       "860957               7                20151018         0  \n",
       "860958               7                20151019         0  \n",
       "860959               7                20151019         0  \n",
       "860960               7                20151019         0  \n",
       "860961               7                20151019         0  \n",
       "860962               7                20151020         0  \n",
       "860963               7                20151020         0  \n",
       "860964               7                20151020         0  \n",
       "860965               7                20151020         0  \n",
       "860966               7                20151020         0  \n",
       "\n",
       "[860967 rows x 7 columns]"
      ]
     },
     "execution_count": 3,
     "metadata": {},
     "output_type": "execute_result"
    }
   ],
   "source": [
    "result"
   ]
  },
  {
   "cell_type": "code",
   "execution_count": 18,
   "metadata": {},
   "outputs": [
    {
     "data": {
      "text/plain": [
       "81448"
      ]
     },
     "execution_count": 18,
     "metadata": {},
     "output_type": "execute_result"
    }
   ],
   "source": [
    "gender_churn_num = sum(result['is_churn'])\n",
    "gender_churn_num"
   ]
  },
  {
   "cell_type": "code",
   "execution_count": 19,
   "metadata": {},
   "outputs": [
    {
     "data": {
      "text/plain": [
       "204561"
      ]
     },
     "execution_count": 19,
     "metadata": {},
     "output_type": "execute_result"
    }
   ],
   "source": [
    "male_sum = sum(result['gender'] == 'male')\n",
    "male_sum"
   ]
  },
  {
   "cell_type": "code",
   "execution_count": 20,
   "metadata": {},
   "outputs": [
    {
     "data": {
      "text/plain": [
       "184344"
      ]
     },
     "execution_count": 20,
     "metadata": {},
     "output_type": "execute_result"
    }
   ],
   "source": [
    "female_sum = sum(result['gender'] == 'female')\n",
    "female_sum"
   ]
  },
  {
   "cell_type": "code",
   "execution_count": 21,
   "metadata": {},
   "outputs": [
    {
     "data": {
      "text/plain": [
       "26396"
      ]
     },
     "execution_count": 21,
     "metadata": {},
     "output_type": "execute_result"
    }
   ],
   "source": [
    "male_churn_num = sum(result[result['gender'] == 'male']['is_churn'])\n",
    "male_churn_num"
   ]
  },
  {
   "cell_type": "code",
   "execution_count": 22,
   "metadata": {},
   "outputs": [
    {
     "data": {
      "text/plain": [
       "23940"
      ]
     },
     "execution_count": 22,
     "metadata": {},
     "output_type": "execute_result"
    }
   ],
   "source": [
    "female_churn_num = sum(result[result['gender'] == 'female']['is_churn'])\n",
    "female_churn_num"
   ]
  },
  {
   "cell_type": "code",
   "execution_count": 127,
   "metadata": {},
   "outputs": [
    {
     "data": {
      "text/plain": [
       "0.12986590287722952"
      ]
     },
     "execution_count": 127,
     "metadata": {},
     "output_type": "execute_result"
    }
   ],
   "source": [
    "female_churn_num/female_sum"
   ]
  },
  {
   "cell_type": "code",
   "execution_count": 4,
   "metadata": {
    "collapsed": true
   },
   "outputs": [],
   "source": [
    "import matplotlib.pyplot as plt\n",
    "import seaborn as sns\n",
    "import numpy as np\n",
    "from matplotlib.ticker import FuncFormatter"
   ]
  },
  {
   "cell_type": "code",
   "execution_count": 76,
   "metadata": {},
   "outputs": [
    {
     "data": {
      "image/png": "[encoded data removed]",
      "text/plain": [
       "<Figure size 360x288 with 1 Axes>"
      ]
     },
     "metadata": {},
     "output_type": "display_data"
    }
   ],
   "source": [
    "sns.set(palette=\"muted\", color_codes=True)\n",
    "index = np.arange(2)\n",
    "x = ['male','female']\n",
    "ratio_y = [100*male_churn_num/male_sum, 100*female_churn_num/female_sum]\n",
    "plt.figure(figsize=(5, 4))\n",
    "plt.bar(x,ratio_y,width=0.25,align='center',color=['#87CEFA','g'])\n",
    "plt.ylabel('Churn Ratio[%]',fontsize=20)\n",
    "plt.text('male',13,'12.903%')\n",
    "plt.text('female',13,'12.986%')\n",
    "plt.title('Gender Churn Ratio',fontsize=15)\n",
    "plt.show()\n"
   ]
  },
  {
   "cell_type": "code",
   "execution_count": 133,
   "metadata": {},
   "outputs": [
    {
     "name": "stdout",
     "output_type": "stream",
     "text": [
      "[0 1]\n",
      "[129037.30427598614, 129865.90287722953]\n"
     ]
    },
    {
     "data": {
      "text/plain": [
       "<Figure size 720x576 with 0 Axes>"
      ]
     },
     "metadata": {},
     "output_type": "display_data"
    },
    {
     "data": {
      "image/png": "[encoded data removed]",
      "text/plain": [
       "<Figure size 432x288 with 1 Axes>"
      ]
     },
     "metadata": {},
     "output_type": "display_data"
    }
   ],
   "source": [
    "sns.set_style('whitegrid') \n",
    "index = np.arange(2)\n",
    "print(index)\n",
    "x = ['male','female']\n",
    "ratio_x = ['male','female']\n",
    "y = [male_sum,female_sum]\n",
    "ratio_y = [1000000*male_churn_num/male_sum, 1000000*female_churn_num/female_sum]\n",
    "print(ratio_y)\n",
    "def formatnum(x, pos):\n",
    "    return '$%.1f$x$10^{4}$' % (x/10000)\n",
    "formatter = FuncFormatter(formatnum)\n",
    "\n",
    "plt.figure(figsize=(10, 8))\n",
    "fig, ax = plt.subplots()\n",
    "\n",
    "\n",
    "rects1 = ax.bar(index, y, width=0.25,align='center',color='#87CEFA',label='Gender_Population')\n",
    "rects2 = ax.bar(index+0.25,ratio_y, width=0.25,align='center',color='green',label='churn_ratio')\n",
    "ax.text(0.18,1000000*male_churn_num/male_sum + 10000,'12.903%')\n",
    "ax.text(1.18,1000000*female_churn_num/female_sum + 10000, ')\n",
    "ax.yaxis.set_major_formatter(formatter)\n",
    "ax.set_xticks(index + 0.25 / 2)\n",
    "ax.set_xticklabels(('male', 'female'))\n",
    "plt.title('Gender Population and Their Respective Churn Ratio')\n",
    "plt.legend(loc=\"upper right\")\n",
    "#fig.tight_layout()\n",
    "plt.show()"
   ]
  },
  {
   "cell_type": "code",
   "execution_count": null,
   "metadata": {
    "collapsed": true
   },
   "outputs": [],
   "source": [
    "sum(result[result['gender'] == 'male']['is_churn'])"
   ]
  },
  {
   "cell_type": "code",
   "execution_count": 47,
   "metadata": {},
   "outputs": [
    {
     "data": {
      "text/plain": [
       "28351"
      ]
     },
     "execution_count": 47,
     "metadata": {},
     "output_type": "execute_result"
    }
   ],
   "source": [
    "sum(result[result['city'] == 1]['is_churn'])"
   ]
  },
  {
   "cell_type": "code",
   "execution_count": 57,
   "metadata": {},
   "outputs": [
    {
     "name": "stdout",
     "output_type": "stream",
     "text": [
      "21\n"
     ]
    }
   ],
   "source": [
    "city = set(result['city'])\n",
    "city_ratio_sum = []\n",
    "for i in city:\n",
    "    name = \"sum_\" + str(i)\n",
    "    city_ratio_sum.append(100*sum(result[result['city'] == i]['is_churn']) / result[result['city'] == i].shape[0])\n",
    "\n",
    "print(len(city_ratio_sum))"
   ]
  },
  {
   "cell_type": "code",
   "execution_count": 77,
   "metadata": {},
   "outputs": [
    {
     "data": {
      "image/png": "[encoded data removed]",
      "text/plain": [
       "<Figure size 720x576 with 1 Axes>"
      ]
     },
     "metadata": {},
     "output_type": "display_data"
    }
   ],
   "source": [
    "sns.set(palette=\"muted\", color_codes=True)\n",
    "plt.figure(figsize=(10, 8))\n",
    "c1 = sns.color_palette('Set1',9)\n",
    "c2 = sns.color_palette('Set2',9)\n",
    "c3 = sns.color_palette('Set3',3)\n",
    "c = c1+c2+c3\n",
    "plt.bar(list(city),city_ratio_sum,width=0.45,align='center',color=c)\n",
    "plt.ylim((0,20))\n",
    "plt.xticks(list(city),city)\n",
    "plt.ylabel('Churn Ratio[%]',fontsize=20)\n",
    "# plt.text('male',13,'12.903%')\n",
    "# plt.text('female',13,'12.986%')\n",
    "plt.title('City Churn Ratio',fontsize=18)\n",
    "plt.show()"
   ]
  },
  {
   "cell_type": "code",
   "execution_count": null,
   "metadata": {
    "collapsed": true
   },
   "outputs": [],
   "source": []
  },
  {
   "cell_type": "code",
   "execution_count": 3,
   "metadata": {
    "collapsed": true
   },
   "outputs": [],
   "source": [
    "import pandas as pd"
   ]
  },
  {
   "cell_type": "code",
   "execution_count": 4,
   "metadata": {
    "collapsed": true
   },
   "outputs": [],
   "source": [
    "train = pd.read_csv(r'C:\\Users\\Leo\\Downloads\\all\\train_v2\\train_v2.csv')"
   ]
  },
  {
   "cell_type": "code",
   "execution_count": 5,
   "metadata": {
    "collapsed": true
   },
   "outputs": [],
   "source": [
    "test = pd.read_csv(r'C:\\Users\\Leo\\Downloads\\all\\sample_submission_v2\\sample_submission_v2.csv')"
   ]
  },
  {
   "cell_type": "code",
   "execution_count": 34,
   "metadata": {},
   "outputs": [
    {
     "name": "stdout",
     "output_type": "stream",
     "text": [
      "<class 'pandas.core.frame.DataFrame'>\n",
      "RangeIndex: 907471 entries, 0 to 907470\n",
      "Data columns (total 2 columns):\n",
      "msno        907471 non-null object\n",
      "is_churn    907471 non-null int64\n",
      "dtypes: int64(1), object(1)\n",
      "memory usage: 13.8+ MB\n"
     ]
    }
   ],
   "source": [
    "test.info()"
   ]
  },
  {
   "cell_type": "code",
   "execution_count": 12,
   "metadata": {
    "collapsed": true
   },
   "outputs": [],
   "source": [
    "tst = pd.read_csv(r'C:\\Users\\Leo\\Downloads\\all\\transactions\\transactions.csv', usecols=['msno'])"
   ]
  },
  {
   "cell_type": "code",
   "execution_count": 19,
   "metadata": {
    "collapsed": true
   },
   "outputs": [],
   "source": [
    "transactions = pd.concat((tst, pd.read_csv(r'C:\\Users\\Leo\\Downloads\\all\\transactions_v2\\transactions_v2.csv', \n",
    "                                                    usecols=['msno'])), axis=0, ignore_index=True)"
   ]
  },
  {
   "cell_type": "code",
   "execution_count": 21,
   "metadata": {
    "collapsed": true
   },
   "outputs": [],
   "source": [
    "tran = pd.DataFrame(transactions['msno'].value_counts().reset_index())"
   ]
  },
  {
   "cell_type": "code",
   "execution_count": 23,
   "metadata": {
    "collapsed": true
   },
   "outputs": [],
   "source": [
    "tran.columns = ['msno','trans_count']"
   ]
  },
  {
   "cell_type": "code",
   "execution_count": 24,
   "metadata": {},
   "outputs": [
    {
     "data": {
      "text/html": [
       "<div>\n",
       "<style>\n",
       "    .dataframe thead tr:only-child th {\n",
       "        text-align: right;\n",
       "    }\n",
       "\n",
       "    .dataframe thead th {\n",
       "        text-align: left;\n",
       "    }\n",
       "\n",
       "    .dataframe tbody tr th {\n",
       "        vertical-align: top;\n",
       "    }\n",
       "</style>\n",
       "<table border=\"1\" class=\"dataframe\">\n",
       "  <thead>\n",
       "    <tr style=\"text-align: right;\">\n",
       "      <th></th>\n",
       "      <th>msno</th>\n",
       "      <th>trans_count</th>\n",
       "    </tr>\n",
       "  </thead>\n",
       "  <tbody>\n",
       "    <tr>\n",
       "      <th>0</th>\n",
       "      <td>72gJqt1O31E/WoxAEYFn9LHNI6mAZFGera5Q6gvsFkA=</td>\n",
       "      <td>244</td>\n",
       "    </tr>\n",
       "    <tr>\n",
       "      <th>1</th>\n",
       "      <td>5ty4nZkq54z93wQtBN7RHVYj8rNghBDCVBH+3xmxf0I=</td>\n",
       "      <td>220</td>\n",
       "    </tr>\n",
       "    <tr>\n",
       "      <th>2</th>\n",
       "      <td>OGKDrZQDB3yewZhoSd5qqvmG5A1GcNTYMexO95NlH+g=</td>\n",
       "      <td>187</td>\n",
       "    </tr>\n",
       "    <tr>\n",
       "      <th>3</th>\n",
       "      <td>SNlFRAsmUqnXKPofSXA8WYUc5DtmLcUMy4pXSJ3Ohz0=</td>\n",
       "      <td>173</td>\n",
       "    </tr>\n",
       "    <tr>\n",
       "      <th>4</th>\n",
       "      <td>WHsCtkOVsauvqBL0ULuG38887y7aU8GXdCmJMjw6hjQ=</td>\n",
       "      <td>158</td>\n",
       "    </tr>\n",
       "  </tbody>\n",
       "</table>\n",
       "</div>"
      ],
      "text/plain": [
       "                                           msno  trans_count\n",
       "0  72gJqt1O31E/WoxAEYFn9LHNI6mAZFGera5Q6gvsFkA=          244\n",
       "1  5ty4nZkq54z93wQtBN7RHVYj8rNghBDCVBH+3xmxf0I=          220\n",
       "2  OGKDrZQDB3yewZhoSd5qqvmG5A1GcNTYMexO95NlH+g=          187\n",
       "3  SNlFRAsmUqnXKPofSXA8WYUc5DtmLcUMy4pXSJ3Ohz0=          173\n",
       "4  WHsCtkOVsauvqBL0ULuG38887y7aU8GXdCmJMjw6hjQ=          158"
      ]
     },
     "execution_count": 24,
     "metadata": {},
     "output_type": "execute_result"
    }
   ],
   "source": [
    "tran.head()"
   ]
  },
  {
   "cell_type": "code",
   "execution_count": 25,
   "metadata": {
    "collapsed": true
   },
   "outputs": [],
   "source": [
    "tran_v2 = pd.read_csv(r'C:\\Users\\Leo\\Downloads\\all\\transactions_v2\\transactions_v2.csv')"
   ]
  },
  {
   "cell_type": "code",
   "execution_count": 28,
   "metadata": {
    "collapsed": true
   },
   "outputs": [],
   "source": [
    "tran_v2 = tran_v2.set_index('msno')"
   ]
  },
  {
   "cell_type": "code",
   "execution_count": 29,
   "metadata": {
    "collapsed": true
   },
   "outputs": [],
   "source": [
    "test_c = test.set_index('msno')"
   ]
  },
  {
   "cell_type": "code",
   "execution_count": 32,
   "metadata": {
    "collapsed": true
   },
   "outputs": [],
   "source": [
    "k = pd.merge(tran_v2,test_c,left_index=True, right_index=True)"
   ]
  },
  {
   "cell_type": "code",
   "execution_count": 33,
   "metadata": {},
   "outputs": [
    {
     "name": "stdout",
     "output_type": "stream",
     "text": [
      "<class 'pandas.core.frame.DataFrame'>\n",
      "Index: 973284 entries, +++hVY1rZox/33YtvDgmKA2Frg/2qhkz12B9ylCvh8o= to zzzF1KsGfHH3qI6qiSNSXC35UXmVKMVFdxkp7xmDMc0=\n",
      "Data columns (total 9 columns):\n",
      "payment_method_id         973284 non-null int64\n",
      "payment_plan_days         973284 non-null int64\n",
      "plan_list_price           973284 non-null int64\n",
      "actual_amount_paid        973284 non-null int64\n",
      "is_auto_renew             973284 non-null int64\n",
      "transaction_date          973284 non-null int64\n",
      "membership_expire_date    973284 non-null int64\n",
      "is_cancel                 973284 non-null int64\n",
      "is_churn                  973284 non-null int64\n",
      "dtypes: int64(9)\n",
      "memory usage: 74.3+ MB\n"
     ]
    }
   ],
   "source": [
    "k.info()"
   ]
  },
  {
   "cell_type": "code",
   "execution_count": 1,
   "metadata": {
    "collapsed": true
   },
   "outputs": [],
   "source": [
    "import pandas as pd"
   ]
  },
  {
   "cell_type": "code",
   "execution_count": 2,
   "metadata": {
    "collapsed": true
   },
   "outputs": [],
   "source": [
    "train = pd.read_csv(r'C:\\Users\\Leo\\Downloads\\final_train.csv')"
   ]
  },
  {
   "cell_type": "code",
   "execution_count": 5,
   "metadata": {
    "collapsed": true
   },
   "outputs": [],
   "source": [
    "test = pd.read_csv(r'C:\\Users\\Leo\\Downloads\\final_test.csv')"
   ]
  },
  {
   "cell_type": "code",
   "execution_count": 13,
   "metadata": {},
   "outputs": [
    {
     "name": "stdout",
     "output_type": "stream",
     "text": [
      "<class 'pandas.core.frame.DataFrame'>\n",
      "RangeIndex: 907471 entries, 0 to 907470\n",
      "Data columns (total 61 columns):\n",
      "actual_amount_paid_mean        907471 non-null float64\n",
      "amt_per_day_mean               907471 non-null float64\n",
      "autorenew_&_not_cancel_mode    907471 non-null float64\n",
      "discount_mean                  907471 non-null float64\n",
      "is_auto_renew_mean             907471 non-null float64\n",
      "is_cancel_mode                 907471 non-null float64\n",
      "is_churn                       907471 non-null int64\n",
      "is_discount_mode               907471 non-null float64\n",
      "logs_count                     907471 non-null float64\n",
      "membership_duration_mean       907471 non-null float64\n",
      "msno                           907471 non-null object\n",
      "notAutorenew_&_cancel_mode     907471 non-null float64\n",
      "payment_id_10                  907471 non-null float64\n",
      "payment_id_11                  907471 non-null float64\n",
      "payment_id_12                  907471 non-null float64\n",
      "payment_id_13                  907471 non-null float64\n",
      "payment_id_14                  907471 non-null float64\n",
      "payment_id_15                  907471 non-null float64\n",
      "payment_id_16                  907471 non-null float64\n",
      "payment_id_17                  907471 non-null float64\n",
      "payment_id_18                  907471 non-null float64\n",
      "payment_id_19                  907471 non-null float64\n",
      "payment_id_2                   907471 non-null float64\n",
      "payment_id_20                  907471 non-null float64\n",
      "payment_id_21                  907471 non-null float64\n",
      "payment_id_22                  907471 non-null float64\n",
      "payment_id_23                  907471 non-null float64\n",
      "payment_id_24                  907471 non-null float64\n",
      "payment_id_25                  907471 non-null float64\n",
      "payment_id_26                  907471 non-null float64\n",
      "payment_id_27                  907471 non-null float64\n",
      "payment_id_28                  907471 non-null float64\n",
      "payment_id_29                  907471 non-null float64\n",
      "payment_id_3                   907471 non-null float64\n",
      "payment_id_30                  907471 non-null float64\n",
      "payment_id_31                  907471 non-null float64\n",
      "payment_id_32                  907471 non-null float64\n",
      "payment_id_33                  907471 non-null float64\n",
      "payment_id_34                  907471 non-null float64\n",
      "payment_id_35                  907471 non-null float64\n",
      "payment_id_36                  907471 non-null float64\n",
      "payment_id_37                  907471 non-null float64\n",
      "payment_id_38                  907471 non-null float64\n",
      "payment_id_39                  907471 non-null float64\n",
      "payment_id_4                   907471 non-null float64\n",
      "payment_id_40                  907471 non-null float64\n",
      "payment_id_41                  907471 non-null float64\n",
      "payment_id_5                   907471 non-null float64\n",
      "payment_id_6                   907471 non-null float64\n",
      "payment_id_7                   907471 non-null float64\n",
      "payment_id_8                   907471 non-null float64\n",
      "payment_plan_days_mean         907471 non-null float64\n",
      "plan_list_price_mean           907471 non-null float64\n",
      "reg_via_10                     907471 non-null float64\n",
      "reg_via_13                     907471 non-null float64\n",
      "reg_via_16                     907471 non-null float64\n",
      "reg_via_3                      907471 non-null float64\n",
      "reg_via_4                      907471 non-null float64\n",
      "reg_via_7                      907471 non-null float64\n",
      "reg_via_9                      907471 non-null float64\n",
      "trans_count                    907471 non-null int64\n",
      "dtypes: float64(58), int64(2), object(1)\n",
      "memory usage: 422.3+ MB\n"
     ]
    }
   ],
   "source": [
    "test.info()"
   ]
  },
  {
   "cell_type": "code",
   "execution_count": 5,
   "metadata": {},
   "outputs": [
    {
     "data": {
      "text/html": [
       "<div>\n",
       "<style>\n",
       "    .dataframe thead tr:only-child th {\n",
       "        text-align: right;\n",
       "    }\n",
       "\n",
       "    .dataframe thead th {\n",
       "        text-align: left;\n",
       "    }\n",
       "\n",
       "    .dataframe tbody tr th {\n",
       "        vertical-align: top;\n",
       "    }\n",
       "</style>\n",
       "<table border=\"1\" class=\"dataframe\">\n",
       "  <thead>\n",
       "    <tr style=\"text-align: right;\">\n",
       "      <th></th>\n",
       "      <th>actual_amount_paid_mean</th>\n",
       "      <th>amt_per_day_mean</th>\n",
       "      <th>autorenew_&amp;_not_cancel_mode</th>\n",
       "      <th>discount_mean</th>\n",
       "      <th>is_auto_renew_mean</th>\n",
       "      <th>is_cancel_mode</th>\n",
       "      <th>is_churn</th>\n",
       "      <th>is_discount_mode</th>\n",
       "      <th>logs_count</th>\n",
       "      <th>membership_duration_mean</th>\n",
       "      <th>...</th>\n",
       "      <th>payment_plan_days_mean</th>\n",
       "      <th>plan_list_price_mean</th>\n",
       "      <th>reg_via_10</th>\n",
       "      <th>reg_via_13</th>\n",
       "      <th>reg_via_16</th>\n",
       "      <th>reg_via_3</th>\n",
       "      <th>reg_via_4</th>\n",
       "      <th>reg_via_7</th>\n",
       "      <th>reg_via_9</th>\n",
       "      <th>trans_count</th>\n",
       "    </tr>\n",
       "  </thead>\n",
       "  <tbody>\n",
       "    <tr>\n",
       "      <th>0</th>\n",
       "      <td>74.5</td>\n",
       "      <td>2.483333</td>\n",
       "      <td>0.0</td>\n",
       "      <td>0.000000</td>\n",
       "      <td>0.0</td>\n",
       "      <td>0.0</td>\n",
       "      <td>1</td>\n",
       "      <td>0.0</td>\n",
       "      <td>0.0</td>\n",
       "      <td>18.500000</td>\n",
       "      <td>...</td>\n",
       "      <td>18.500000</td>\n",
       "      <td>74.50000</td>\n",
       "      <td>0.0</td>\n",
       "      <td>0.0</td>\n",
       "      <td>0.0</td>\n",
       "      <td>0.0</td>\n",
       "      <td>0.0</td>\n",
       "      <td>0.0</td>\n",
       "      <td>1.0</td>\n",
       "      <td>2</td>\n",
       "    </tr>\n",
       "    <tr>\n",
       "      <th>1</th>\n",
       "      <td>149.2</td>\n",
       "      <td>4.973333</td>\n",
       "      <td>1.0</td>\n",
       "      <td>0.000000</td>\n",
       "      <td>1.0</td>\n",
       "      <td>0.0</td>\n",
       "      <td>1</td>\n",
       "      <td>0.0</td>\n",
       "      <td>0.0</td>\n",
       "      <td>31.300000</td>\n",
       "      <td>...</td>\n",
       "      <td>30.000000</td>\n",
       "      <td>149.20000</td>\n",
       "      <td>0.0</td>\n",
       "      <td>0.0</td>\n",
       "      <td>0.0</td>\n",
       "      <td>0.0</td>\n",
       "      <td>0.0</td>\n",
       "      <td>0.0</td>\n",
       "      <td>1.0</td>\n",
       "      <td>10</td>\n",
       "    </tr>\n",
       "    <tr>\n",
       "      <th>2</th>\n",
       "      <td>894.0</td>\n",
       "      <td>2.180488</td>\n",
       "      <td>0.0</td>\n",
       "      <td>0.000000</td>\n",
       "      <td>0.0</td>\n",
       "      <td>0.0</td>\n",
       "      <td>1</td>\n",
       "      <td>0.0</td>\n",
       "      <td>5.0</td>\n",
       "      <td>207.000000</td>\n",
       "      <td>...</td>\n",
       "      <td>410.000000</td>\n",
       "      <td>894.00000</td>\n",
       "      <td>0.0</td>\n",
       "      <td>0.0</td>\n",
       "      <td>0.0</td>\n",
       "      <td>0.0</td>\n",
       "      <td>0.0</td>\n",
       "      <td>0.0</td>\n",
       "      <td>1.0</td>\n",
       "      <td>3</td>\n",
       "    </tr>\n",
       "    <tr>\n",
       "      <th>3</th>\n",
       "      <td>447.0</td>\n",
       "      <td>4.843199</td>\n",
       "      <td>0.0</td>\n",
       "      <td>0.000000</td>\n",
       "      <td>0.0</td>\n",
       "      <td>0.0</td>\n",
       "      <td>1</td>\n",
       "      <td>0.0</td>\n",
       "      <td>17.0</td>\n",
       "      <td>104.250000</td>\n",
       "      <td>...</td>\n",
       "      <td>98.125000</td>\n",
       "      <td>447.00000</td>\n",
       "      <td>0.0</td>\n",
       "      <td>0.0</td>\n",
       "      <td>0.0</td>\n",
       "      <td>0.0</td>\n",
       "      <td>0.0</td>\n",
       "      <td>0.0</td>\n",
       "      <td>1.0</td>\n",
       "      <td>9</td>\n",
       "    </tr>\n",
       "    <tr>\n",
       "      <th>4</th>\n",
       "      <td>149.0</td>\n",
       "      <td>0.000000</td>\n",
       "      <td>1.0</td>\n",
       "      <td>-40.636364</td>\n",
       "      <td>1.0</td>\n",
       "      <td>0.0</td>\n",
       "      <td>1</td>\n",
       "      <td>0.0</td>\n",
       "      <td>0.0</td>\n",
       "      <td>29.045454</td>\n",
       "      <td>...</td>\n",
       "      <td>21.818182</td>\n",
       "      <td>108.36364</td>\n",
       "      <td>0.0</td>\n",
       "      <td>0.0</td>\n",
       "      <td>0.0</td>\n",
       "      <td>0.0</td>\n",
       "      <td>0.0</td>\n",
       "      <td>0.0</td>\n",
       "      <td>1.0</td>\n",
       "      <td>22</td>\n",
       "    </tr>\n",
       "  </tbody>\n",
       "</table>\n",
       "<p>5 rows × 61 columns</p>\n",
       "</div>"
      ],
      "text/plain": [
       "   actual_amount_paid_mean  amt_per_day_mean  autorenew_&_not_cancel_mode  \\\n",
       "0                     74.5          2.483333                          0.0   \n",
       "1                    149.2          4.973333                          1.0   \n",
       "2                    894.0          2.180488                          0.0   \n",
       "3                    447.0          4.843199                          0.0   \n",
       "4                    149.0          0.000000                          1.0   \n",
       "\n",
       "   discount_mean  is_auto_renew_mean  is_cancel_mode  is_churn  \\\n",
       "0       0.000000                 0.0             0.0         1   \n",
       "1       0.000000                 1.0             0.0         1   \n",
       "2       0.000000                 0.0             0.0         1   \n",
       "3       0.000000                 0.0             0.0         1   \n",
       "4     -40.636364                 1.0             0.0         1   \n",
       "\n",
       "   is_discount_mode  logs_count  membership_duration_mean     ...       \\\n",
       "0               0.0         0.0                 18.500000     ...        \n",
       "1               0.0         0.0                 31.300000     ...        \n",
       "2               0.0         5.0                207.000000     ...        \n",
       "3               0.0        17.0                104.250000     ...        \n",
       "4               0.0         0.0                 29.045454     ...        \n",
       "\n",
       "  payment_plan_days_mean  plan_list_price_mean  reg_via_10  reg_via_13  \\\n",
       "0              18.500000              74.50000         0.0         0.0   \n",
       "1              30.000000             149.20000         0.0         0.0   \n",
       "2             410.000000             894.00000         0.0         0.0   \n",
       "3              98.125000             447.00000         0.0         0.0   \n",
       "4              21.818182             108.36364         0.0         0.0   \n",
       "\n",
       "   reg_via_16  reg_via_3  reg_via_4  reg_via_7  reg_via_9  trans_count  \n",
       "0         0.0        0.0        0.0        0.0        1.0            2  \n",
       "1         0.0        0.0        0.0        0.0        1.0           10  \n",
       "2         0.0        0.0        0.0        0.0        1.0            3  \n",
       "3         0.0        0.0        0.0        0.0        1.0            9  \n",
       "4         0.0        0.0        0.0        0.0        1.0           22  \n",
       "\n",
       "[5 rows x 61 columns]"
      ]
     },
     "execution_count": 5,
     "metadata": {},
     "output_type": "execute_result"
    }
   ],
   "source": [
    "train.head()"
   ]
  },
  {
   "cell_type": "code",
   "execution_count": 33,
   "metadata": {
    "collapsed": true
   },
   "outputs": [],
   "source": [
    "y = train['is_churn']\n",
    "x = train.drop(['is_churn','msno'],axis=1)"
   ]
  },
  {
   "cell_type": "code",
   "execution_count": 34,
   "metadata": {
    "collapsed": true
   },
   "outputs": [],
   "source": [
    "x_test = test.drop(['is_churn','msno'],axis=1)\n",
    "y_test = test['is_churn']"
   ]
  },
  {
   "cell_type": "code",
   "execution_count": 4,
   "metadata": {},
   "outputs": [
    {
     "name": "stderr",
     "output_type": "stream",
     "text": [
      "C:\\software\\Anaconda\\lib\\site-packages\\sklearn\\ensemble\\weight_boosting.py:29: DeprecationWarning: numpy.core.umath_tests is an internal NumPy module and should not be imported. It will be removed in a future NumPy release.\n",
      "  from numpy.core.umath_tests import inner1d\n"
     ]
    }
   ],
   "source": [
    "from sklearn.ensemble import RandomForestClassifier"
   ]
  },
  {
   "cell_type": "code",
   "execution_count": 35,
   "metadata": {
    "collapsed": true
   },
   "outputs": [],
   "source": [
    "clf = RandomForestClassifier(n_estimators=138, max_depth=100,random_state=0,min_samples_leaf=1,min_samples_split=109)"
   ]
  },
  {
   "cell_type": "code",
   "execution_count": 36,
   "metadata": {},
   "outputs": [
    {
     "data": {
      "text/plain": [
       "RandomForestClassifier(bootstrap=True, class_weight=None, criterion='gini',\n",
       "            max_depth=100, max_features='auto', max_leaf_nodes=None,\n",
       "            min_impurity_decrease=0.0, min_impurity_split=None,\n",
       "            min_samples_leaf=1, min_samples_split=109,\n",
       "            min_weight_fraction_leaf=0.0, n_estimators=138, n_jobs=1,\n",
       "            oob_score=False, random_state=0, verbose=0, warm_start=False)"
      ]
     },
     "execution_count": 36,
     "metadata": {},
     "output_type": "execute_result"
    }
   ],
   "source": [
    "clf.fit(x,y)"
   ]
  },
  {
   "cell_type": "code",
   "execution_count": 37,
   "metadata": {
    "collapsed": true
   },
   "outputs": [],
   "source": [
    "result = clf.predict_proba(x_test)"
   ]
  },
  {
   "cell_type": "code",
   "execution_count": 18,
   "metadata": {},
   "outputs": [
    {
     "data": {
      "text/plain": [
       "array([[0.93115705, 0.06884295],\n",
       "       [0.93627199, 0.06372801],\n",
       "       [0.95845606, 0.04154394],\n",
       "       ...,\n",
       "       [0.95845606, 0.04154394],\n",
       "       [0.94849494, 0.05150506],\n",
       "       [0.95267885, 0.04732115]])"
      ]
     },
     "execution_count": 18,
     "metadata": {},
     "output_type": "execute_result"
    }
   ],
   "source": [
    "result"
   ]
  },
  {
   "cell_type": "code",
   "execution_count": 38,
   "metadata": {
    "collapsed": true
   },
   "outputs": [],
   "source": [
    "sub = pd.read_csv(r'C:\\Users\\Leo\\Downloads\\all\\sample_submission_v2\\sample_submission_v2.csv')"
   ]
  },
  {
   "cell_type": "code",
   "execution_count": 20,
   "metadata": {},
   "outputs": [
    {
     "name": "stdout",
     "output_type": "stream",
     "text": [
      "<class 'pandas.core.frame.DataFrame'>\n",
      "RangeIndex: 907471 entries, 0 to 907470\n",
      "Data columns (total 2 columns):\n",
      "msno        907471 non-null object\n",
      "is_churn    907471 non-null int64\n",
      "dtypes: int64(1), object(1)\n",
      "memory usage: 13.8+ MB\n"
     ]
    }
   ],
   "source": [
    "sub.info()"
   ]
  },
  {
   "cell_type": "code",
   "execution_count": 39,
   "metadata": {
    "collapsed": true
   },
   "outputs": [],
   "source": [
    "sub['is_churn'] = result[:,1]"
   ]
  },
  {
   "cell_type": "code",
   "execution_count": 40,
   "metadata": {
    "collapsed": true
   },
   "outputs": [],
   "source": [
    "sub.to_csv(r'C:\\Users\\Leo\\Downloads\\all\\sample_submission_v2\\sample_submission_v2.csv',index=False)"
   ]
  },
  {
   "cell_type": "code",
   "execution_count": 27,
   "metadata": {
    "collapsed": true
   },
   "outputs": [],
   "source": [
    "sub2 = pd.read_csv(r'C:\\Users\\Leo\\Downloads\\all\\sample_submission_v2\\sample_submission_v2.csv')"
   ]
  },
  {
   "cell_type": "code",
   "execution_count": 28,
   "metadata": {},
   "outputs": [
    {
     "data": {
      "text/html": [
       "<div>\n",
       "<style>\n",
       "    .dataframe thead tr:only-child th {\n",
       "        text-align: right;\n",
       "    }\n",
       "\n",
       "    .dataframe thead th {\n",
       "        text-align: left;\n",
       "    }\n",
       "\n",
       "    .dataframe tbody tr th {\n",
       "        vertical-align: top;\n",
       "    }\n",
       "</style>\n",
       "<table border=\"1\" class=\"dataframe\">\n",
       "  <thead>\n",
       "    <tr style=\"text-align: right;\">\n",
       "      <th></th>\n",
       "      <th>msno</th>\n",
       "      <th>is_churn</th>\n",
       "    </tr>\n",
       "  </thead>\n",
       "  <tbody>\n",
       "    <tr>\n",
       "      <th>0</th>\n",
       "      <td>4n+fXlyJvfQnTeKXTWT507Ll4JVYGrOC8LHCfwBmPE4=</td>\n",
       "      <td>0.068843</td>\n",
       "    </tr>\n",
       "    <tr>\n",
       "      <th>1</th>\n",
       "      <td>aNmbC1GvFUxQyQUidCVmfbQ0YeCuwkPzEdQ0RwWyeZM=</td>\n",
       "      <td>0.063728</td>\n",
       "    </tr>\n",
       "    <tr>\n",
       "      <th>2</th>\n",
       "      <td>rFC9eSG/tMuzpre6cwcMLZHEYM89xY02qcz7HL4//jc=</td>\n",
       "      <td>0.041544</td>\n",
       "    </tr>\n",
       "    <tr>\n",
       "      <th>3</th>\n",
       "      <td>WZ59dLyrQcE7ft06MZ5dj40BnlYQY7PHgg/54+HaCSE=</td>\n",
       "      <td>0.098358</td>\n",
       "    </tr>\n",
       "    <tr>\n",
       "      <th>4</th>\n",
       "      <td>aky/Iv8hMp1/V/yQHLtaVuEmmAxkB5GuasQZePJ7NU4=</td>\n",
       "      <td>0.147901</td>\n",
       "    </tr>\n",
       "  </tbody>\n",
       "</table>\n",
       "</div>"
      ],
      "text/plain": [
       "                                           msno  is_churn\n",
       "0  4n+fXlyJvfQnTeKXTWT507Ll4JVYGrOC8LHCfwBmPE4=  0.068843\n",
       "1  aNmbC1GvFUxQyQUidCVmfbQ0YeCuwkPzEdQ0RwWyeZM=  0.063728\n",
       "2  rFC9eSG/tMuzpre6cwcMLZHEYM89xY02qcz7HL4//jc=  0.041544\n",
       "3  WZ59dLyrQcE7ft06MZ5dj40BnlYQY7PHgg/54+HaCSE=  0.098358\n",
       "4  aky/Iv8hMp1/V/yQHLtaVuEmmAxkB5GuasQZePJ7NU4=  0.147901"
      ]
     },
     "execution_count": 28,
     "metadata": {},
     "output_type": "execute_result"
    }
   ],
   "source": [
    "sub2.head()"
   ]
  },
  {
   "cell_type": "code",
   "execution_count": 9,
   "metadata": {
    "collapsed": true
   },
   "outputs": [],
   "source": [
    "from sklearn.model_selection import train_test_split"
   ]
  },
  {
   "cell_type": "code",
   "execution_count": 10,
   "metadata": {
    "collapsed": true
   },
   "outputs": [],
   "source": [
    "x_train_cv, x_test_cv, y_train_cv, y_test_cv = train_test_split(x,y)"
   ]
  },
  {
   "cell_type": "code",
   "execution_count": 11,
   "metadata": {
    "collapsed": true
   },
   "outputs": [],
   "source": [
    "clf2 = RandomForestClassifier(n_estimators=130, max_depth=100,random_state=0)"
   ]
  },
  {
   "cell_type": "code",
   "execution_count": 12,
   "metadata": {},
   "outputs": [
    {
     "data": {
      "text/plain": [
       "RandomForestClassifier(bootstrap=True, class_weight=None, criterion='gini',\n",
       "            max_depth=15, max_features='auto', max_leaf_nodes=None,\n",
       "            min_impurity_decrease=0.0, min_impurity_split=None,\n",
       "            min_samples_leaf=1, min_samples_split=2,\n",
       "            min_weight_fraction_leaf=0.0, n_estimators=130, n_jobs=1,\n",
       "            oob_score=False, random_state=0, verbose=0, warm_start=False)"
      ]
     },
     "execution_count": 12,
     "metadata": {},
     "output_type": "execute_result"
    }
   ],
   "source": [
    "clf2.fit(x_train_cv,y_train_cv)"
   ]
  },
  {
   "cell_type": "code",
   "execution_count": 16,
   "metadata": {
    "collapsed": true
   },
   "outputs": [],
   "source": [
    "result = clf2.predict_proba(x_test_cv)"
   ]
  },
  {
   "cell_type": "code",
   "execution_count": 14,
   "metadata": {
    "collapsed": true
   },
   "outputs": [],
   "source": [
    "from sklearn.metrics import log_loss"
   ]
  },
  {
   "cell_type": "code",
   "execution_count": 17,
   "metadata": {},
   "outputs": [
    {
     "data": {
      "text/plain": [
       "0.20786568513026854"
      ]
     },
     "execution_count": 17,
     "metadata": {},
     "output_type": "execute_result"
    }
   ],
   "source": [
    "log_loss(y_test_cv,result[:,1])"
   ]
  },
  {
   "cell_type": "code",
   "execution_count": null,
   "metadata": {
    "collapsed": true
   },
   "outputs": [],
   "source": []
  },
  {
   "cell_type": "code",
   "execution_count": 30,
   "metadata": {
    "collapsed": true
   },
   "outputs": [],
   "source": [
    "from skopt.space import Real,Integer,Categorical\n",
    "from skopt.utils import use_named_args\n",
    "from skopt import gp_minimize\n",
    "from sklearn.metrics import log_loss\n",
    "\n",
    "space  = [Integer(100, 200, name='n_estimators'),\n",
    "          Integer(90, 100, name='max_depth'),\n",
    "          Integer(1,10,name='min_samples_leaf'),\n",
    "          Integer(80,90,name='min_samples_split')]\n",
    "\n",
    "\n",
    "@use_named_args(space)\n",
    "def loss_function(**params):\n",
    "     \n",
    "    rf_model = RandomForestClassifier(**params)\n",
    "    bst = rf_model.fit(x_train_cv, y_train_cv)\n",
    "    y_predict = rf_model.predict_proba(x_test_cv)\n",
    "    return log_loss(y_test_cv,y_predict[:,1])\n",
    "    \n",
    "    \n",
    "result = gp_minimize(loss_function,space,n_calls=10,random_state=0)"
   ]
  },
  {
   "cell_type": "code",
   "execution_count": 19,
   "metadata": {
    "collapsed": true
   },
   "outputs": [],
   "source": [
    "from skopt.plots import plot_objective\n",
    "import matplotlib.pyplot as plt"
   ]
  },
  {
   "cell_type": "code",
   "execution_count": 31,
   "metadata": {
    "collapsed": true
   },
   "outputs": [],
   "source": [
    "_ =  plot_objective(result)"
   ]
  },
  {
   "cell_type": "code",
   "execution_count": 32,
   "metadata": {},
   "outputs": [
    {
     "data": {
      "image/png": "[encoded data removed]",
      "text/plain": [
       "<Figure size 576x576 with 16 Axes>"
      ]
     },
     "metadata": {},
     "output_type": "display_data"
    }
   ],
   "source": [
    "plt.show()"
   ]
  },
  {
   "cell_type": "code",
   "execution_count": 12,
   "metadata": {
    "collapsed": true
   },
   "outputs": [],
   "source": [
    "from skopt.plots import plot_convergence"
   ]
  },
  {
   "cell_type": "code",
   "execution_count": 13,
   "metadata": {},
   "outputs": [
    {
     "data": {
      "image/png": "[encoded data removed]",
      "text/plain": [
       "<Figure size 432x288 with 1 Axes>"
      ]
     },
     "metadata": {},
     "output_type": "display_data"
    }
   ],
   "source": [
    "plot_convergence(result)\n",
    "plt.show()"
   ]
  },
  {
   "cell_type": "code",
   "execution_count": null,
   "metadata": {
    "collapsed": true
   },
   "outputs": [],
   "source": []
  }
 ],
 "metadata": {
  "kernelspec": {
   "display_name": "Python 3",
   "language": "python",
   "name": "python3"
  },
  "language_info": {
   "codemirror_mode": {
    "name": "ipython",
    "version": 3
   },
   "file_extension": ".py",
   "mimetype": "text/x-python",
   "name": "python",
   "nbconvert_exporter": "python",
   "pygments_lexer": "ipython3",
   "version": "3.6.3"
  }
 },
 "nbformat": 4,
 "nbformat_minor": 2
}
