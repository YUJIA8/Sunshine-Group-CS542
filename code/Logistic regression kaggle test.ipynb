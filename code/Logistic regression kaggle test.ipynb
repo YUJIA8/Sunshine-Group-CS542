{
 "cells": [
  {
   "cell_type": "code",
   "execution_count": 2,
   "metadata": {
    "collapsed": true
   },
   "outputs": [],
   "source": [
    "import pandas as pd\n",
    "final_train = pd.read_csv('/Users/apollo_tong/Downloads/final_train.csv')\n",
    "final_test = pd.read_csv('/Users/apollo_tong/Downloads/final_test.csv')"
   ]
  },
  {
   "cell_type": "code",
   "execution_count": 3,
   "metadata": {
    "collapsed": true
   },
   "outputs": [],
   "source": [
    "#train set\n",
    "train_Y = final_train['is_churn']\n",
    "train_X = final_train.drop(['is_churn', 'msno'], axis=1)\n",
    "#test set\n",
    "test_Y = final_test['is_churn']\n",
    "test_X = final_test.drop(['is_churn', 'msno'], axis=1)"
   ]
  },
  {
   "cell_type": "code",
   "execution_count": null,
   "metadata": {
    "collapsed": true
   },
   "outputs": [],
   "source": [
    "test"
   ]
  },
  {
   "cell_type": "code",
   "execution_count": 31,
   "metadata": {
    "collapsed": true
   },
   "outputs": [],
   "source": [
    "from sklearn.cross_validation import train_test_split\n",
    "from sklearn.preprocessing import StandardScaler\n",
    "#standard scale\n",
    "sc = StandardScaler()\n",
    "sc.fit_transform(train_X)\n",
    "X_train_std = sc.transform(train_X)\n",
    "\n",
    "sc.fit_transform(test_X)\n",
    "X_test_std = sc.transform(test_X)\n"
   ]
  },
  {
   "cell_type": "code",
   "execution_count": 4,
   "metadata": {},
   "outputs": [
    {
     "name": "stdout",
     "output_type": "stream",
     "text": [
      "0.27689852843683554\n",
      "0.27688130687275875\n",
      "0.27456204759661634\n",
      "0.2763224475947298\n",
      "0.27383870083617395\n",
      "0.27644359213471525\n",
      "0.2737693656105546\n",
      "0.27637746696544657\n",
      "0.27376298016889555\n",
      "0.2762476913501857\n"
     ]
    }
   ],
   "source": [
    "from sklearn.model_selection import train_test_split\n",
    "# from skopt.space import Real,Integer,Categorical\n",
    "# from skopt.utils import use_named_args\n",
    "# from skopt import gp_minimize\n",
    "from sklearn.metrics import log_loss\n",
    "# from skopt.space import Real, Integer,Categorical\n",
    "# from skopt.utils import use_named_args\n",
    "from sklearn.linear_model import LogisticRegression\n",
    "import numpy as np \n",
    "C_ = [ 0.01, 0.1, 1, 10, 100]\n",
    "penalty_ = ['l1','l2']\n",
    "x_train_cv, x_test_cv, y_train_cv, y_test_cv = train_test_split(train_X,train_Y)\n",
    "loss = np.zeros((2,5))\n",
    "for i in range(len(C_)):\n",
    "    for j in range(len(penalty_)):\n",
    "        LR = LogisticRegression(C = C_[i] , penalty = penalty_[j]).fit(x_train_cv, y_train_cv)\n",
    "        y_predict = LR.predict_proba(x_test_cv)\n",
    "        print(log_loss(y_test_cv,y_predict) )\n",
    "        loss[j,i] = log_loss(y_test_cv,y_predict) \n",
    "        "
   ]
  },
  {
   "cell_type": "code",
   "execution_count": 12,
   "metadata": {},
   "outputs": [
    {
     "name": "stdout",
     "output_type": "stream",
     "text": [
      "(1082190, 59)\n",
      "(1082190,)\n",
      "(1082190, 59)\n"
     ]
    }
   ],
   "source": [
    "print(X_train_std.shape)\n",
    "print(train_Y.shape)\n",
    "print(train_X.shape)"
   ]
  },
  {
   "cell_type": "code",
   "execution_count": 14,
   "metadata": {
    "collapsed": true
   },
   "outputs": [],
   "source": [
    "from sklearn.model_selection import train_test_split\n",
    "from skopt.space import Real,Integer,Categorical\n",
    "from skopt.utils import use_named_args\n",
    "from skopt import gp_minimize\n",
    "from sklearn.metrics import log_loss\n",
    "from skopt.space import Real, Integer,Categorical\n",
    "from skopt.utils import use_named_args\n",
    "from sklearn.linear_model import LogisticRegression\n",
    "\n",
    "x_train_cv, x_test_cv, y_train_cv, y_test_cv = train_test_split(X_train_std,train_Y)\n",
    "space  = [Real(0.1,20, name='C'),\n",
    "         Categorical(['l1','l2'], name='penalty')]\n",
    "@use_named_args(space)\n",
    "def loss_function(**params):\n",
    "    LR = LogisticRegression(**params).fit(x_train_cv, y_train_cv)\n",
    "    y_predict = LR.predict_proba(x_test_cv)\n",
    "    return log_loss(y_test_cv,y_predict)\n",
    "    \n",
    "result = gp_minimize(loss_function,space,n_calls=10,random_state=0)"
   ]
  },
  {
   "cell_type": "code",
   "execution_count": 15,
   "metadata": {},
   "outputs": [
    {
     "data": {
      "image/png": "[encoded data removed]",
      "text/plain": [
       "<Figure size 432x288 with 1 Axes>"
      ]
     },
     "metadata": {},
     "output_type": "display_data"
    }
   ],
   "source": [
    "from skopt.plots import plot_convergence\n",
    "import matplotlib.pyplot as plt\n",
    "plot_convergence(result)\n",
    "plt.show()"
   ]
  },
  {
   "cell_type": "code",
   "execution_count": 16,
   "metadata": {},
   "outputs": [
    {
     "data": {
      "text/plain": [
       "          fun: 0.2736009654378395\n",
       "    func_vals: array([0.27360101, 0.27360097, 0.2736266 , 0.27361828, 0.27361757,\n",
       "       0.27362936, 0.27360108, 0.27360111, 0.27360109, 0.27360145])\n",
       "       models: [GaussianProcessRegressor(alpha=1e-10, copy_X_train=True,\n",
       "             kernel=1**2 * Matern(length_scale=[1, 1], nu=2.5) + WhiteKernel(noise_level=1),\n",
       "             n_restarts_optimizer=2, noise='gaussian', normalize_y=True,\n",
       "             optimizer='fmin_l_bfgs_b', random_state=209652396)]\n",
       " random_state: <mtrand.RandomState object at 0x1a1c03e0d8>\n",
       "        space: Space([Real(low=0.1, high=20, prior='uniform', transform='normalize'),\n",
       "       Categorical(categories=('l1', 'l2'), prior=None)])\n",
       "        specs: {'args': {'n_jobs': 1, 'kappa': 1.96, 'xi': 0.01, 'n_restarts_optimizer': 5, 'n_points': 10000, 'callback': None, 'verbose': False, 'random_state': <mtrand.RandomState object at 0x1a1c03e0d8>, 'y0': None, 'x0': None, 'acq_optimizer': 'auto', 'acq_func': 'gp_hedge', 'n_random_starts': 10, 'n_calls': 10, 'base_estimator': GaussianProcessRegressor(alpha=1e-10, copy_X_train=True,\n",
       "             kernel=1**2 * Matern(length_scale=[1, 1], nu=2.5),\n",
       "             n_restarts_optimizer=2, noise='gaussian', normalize_y=True,\n",
       "             optimizer='fmin_l_bfgs_b', random_state=209652396), 'dimensions': Space([Real(low=0.1, high=20, prior='uniform', transform='normalize'),\n",
       "       Categorical(categories=('l1', 'l2'), prior=None)]), 'func': <function loss_function at 0x1a1c03ba60>}, 'function': 'base_minimize'}\n",
       "            x: [17.173117790692864, 'l2']\n",
       "      x_iters: [[11.897607902677866, 'l2'], [17.173117790692864, 'l2'], [12.50891756604085, 'l1'], [6.020938670234998, 'l1'], [5.525860262144253, 'l1'], [16.26215770263232, 'l1'], [7.916417442406513, 'l2'], [6.814183592303642, 'l2'], [7.4280066428269045, 'l2'], [2.8929805302116387, 'l2']]"
      ]
     },
     "execution_count": 16,
     "metadata": {},
     "output_type": "execute_result"
    }
   ],
   "source": [
    "result"
   ]
  },
  {
   "cell_type": "code",
   "execution_count": 32,
   "metadata": {
    "collapsed": true
   },
   "outputs": [],
   "source": [
    "from sklearn.linear_model import LogisticRegression\n",
    "from sklearn.model_selection import train_test_split\n",
    "\n",
    "# x_train_cv, x_test_cv, y_train_cv, y_test_cv = train_test_split(X_train_std,train_Y)\n",
    "# model_lr = LogisticRegression(C = 7.428, penalty = 'l2').fit(x_train_cv, y_train_cv)\n",
    "# model_lr = LogisticRegression(C = 17.17, penalty = 'l2').fit(train_X, train_Y)\n",
    "model_lr = LogisticRegression(C = 17.17, penalty = 'l2').fit(X_train_std, train_Y)\n",
    "y_predict = model_lr.predict_proba(X_test_std)"
   ]
  },
  {
   "cell_type": "code",
   "execution_count": 33,
   "metadata": {},
   "outputs": [
    {
     "name": "stdout",
     "output_type": "stream",
     "text": [
      "(907471, 2)\n",
      "(907471, 2)\n"
     ]
    }
   ],
   "source": [
    "result = y_predict[:,1]\n",
    "print(y_predict.shape)\n",
    "print(submission.shape)"
   ]
  },
  {
   "cell_type": "code",
   "execution_count": 34,
   "metadata": {
    "collapsed": true
   },
   "outputs": [],
   "source": [
    "submission = pd.read_csv('/Users/apollo_tong/Desktop/data/sample_submission_v2.csv')"
   ]
  },
  {
   "cell_type": "code",
   "execution_count": 35,
   "metadata": {
    "collapsed": true
   },
   "outputs": [],
   "source": [
    "submission['is_churn'] = result"
   ]
  },
  {
   "cell_type": "code",
   "execution_count": 36,
   "metadata": {
    "collapsed": true
   },
   "outputs": [],
   "source": [
    "submission.to_csv('/Users/apollo_tong/Desktop/data/sample_submission_v2.csv',index = False)"
   ]
  },
  {
   "cell_type": "code",
   "execution_count": 37,
   "metadata": {},
   "outputs": [
    {
     "data": {
      "text/plain": [
       "array([[0.89109401, 0.10890599],\n",
       "       [0.99454926, 0.00545074],\n",
       "       [0.94007468, 0.05992532],\n",
       "       ...,\n",
       "       [0.93757459, 0.06242541],\n",
       "       [0.99192093, 0.00807907],\n",
       "       [0.99230967, 0.00769033]])"
      ]
     },
     "execution_count": 37,
     "metadata": {},
     "output_type": "execute_result"
    }
   ],
   "source": [
    "y_predict"
   ]
  },
  {
   "cell_type": "code",
   "execution_count": 38,
   "metadata": {},
   "outputs": [
    {
     "data": {
      "text/plain": [
       "array([[0.89109401, 0.10890599],\n",
       "       [0.99454926, 0.00545074],\n",
       "       [0.94007468, 0.05992532],\n",
       "       ...,\n",
       "       [0.93757459, 0.06242541],\n",
       "       [0.99192093, 0.00807907],\n",
       "       [0.99230967, 0.00769033]])"
      ]
     },
     "execution_count": 38,
     "metadata": {},
     "output_type": "execute_result"
    }
   ],
   "source": [
    "y_predict"
   ]
  },
  {
   "cell_type": "markdown",
   "metadata": {
    "collapsed": true
   },
   "source": [
    "### "
   ]
  }
 ],
 "metadata": {
  "kernelspec": {
   "display_name": "Python 3",
   "language": "python",
   "name": "python3"
  },
  "language_info": {
   "codemirror_mode": {
    "name": "ipython",
    "version": 3
   },
   "file_extension": ".py",
   "mimetype": "text/x-python",
   "name": "python",
   "nbconvert_exporter": "python",
   "pygments_lexer": "ipython3",
   "version": "3.6.6"
  }
 },
 "nbformat": 4,
 "nbformat_minor": 2
}
